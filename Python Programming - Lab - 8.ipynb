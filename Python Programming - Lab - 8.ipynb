{
 "cells": [
  {
   "cell_type": "markdown",
   "metadata": {},
   "source": [
    "<a href='https://www.darshan.ac.in/'> <img src='https://www.darshan.ac.in/Content/media/DU_Logo.svg' width=\"250\" height=\"300\"/></a>\n",
    "<pre>\n",
    "<center><b><h1>Python Programming - 2101CS405</b></center>\n",
    "<center><b><h1>Lab - 8</b></center>  \n",
    "<p>JAVIA BHARGAV <br/>22010101438</p>  \n",
    "<pre>"
   ]
  },
  {
   "cell_type": "markdown",
   "metadata": {},
   "source": [
    "# File handling"
   ]
  },
  {
   "cell_type": "markdown",
   "metadata": {},
   "source": [
    "# A"
   ]
  },
  {
   "cell_type": "markdown",
   "metadata": {},
   "source": [
    "### 01) WAP to read entire file named abc.txt"
   ]
  },
  {
   "cell_type": "code",
   "execution_count": 12,
   "metadata": {},
   "outputs": [
    {
     "name": "stdout",
     "output_type": "stream",
     "text": [
      "python lab\n"
     ]
    }
   ],
   "source": [
    "f=open(\"abc.txt\",'w')\n",
    "a=input(\"enter string\")\n",
    "f.write(a)\n",
    "f=open(\"abc.txt\",'r')\n",
    "data=f.read()\n",
    "print(data)\n",
    "f.close()"
   ]
  },
  {
   "cell_type": "markdown",
   "metadata": {},
   "source": [
    "### 02) WAP to print program it self on console."
   ]
  },
  {
   "cell_type": "code",
   "execution_count": 14,
   "metadata": {},
   "outputs": [
    {
     "name": "stdout",
     "output_type": "stream",
     "text": [
      "python lab\n",
      "\n",
      "abc\n",
      "\n",
      "sdf\n",
      "\n",
      "wer\n",
      "\n",
      "tyu\n",
      "\n"
     ]
    }
   ],
   "source": [
    "f=open(\"abc.txt\",'r')\n",
    "for i in range(5):\n",
    "    line=f.readline()\n",
    "    print(line)\n",
    "f.close()    "
   ]
  },
  {
   "cell_type": "markdown",
   "metadata": {},
   "source": [
    "### 03) WAP to read first 5 lines from the file named abc.txt"
   ]
  },
  {
   "cell_type": "code",
   "execution_count": 15,
   "metadata": {},
   "outputs": [
    {
     "name": "stdout",
     "output_type": "stream",
     "text": [
      "python lab\n",
      "\n",
      "abc\n",
      "\n",
      "sdf\n",
      "\n",
      "wer\n",
      "\n",
      "tyu\n",
      "\n"
     ]
    }
   ],
   "source": [
    "f=open('abc.txt',\"r\")\n",
    "\n",
    "for i in range(5):\n",
    "    line=f.readline()\n",
    "    print(line)\n",
    "\n",
    "f.close()"
   ]
  },
  {
   "cell_type": "markdown",
   "metadata": {},
   "source": [
    "### 04) WAP to find the longest word in a file named abc.txt"
   ]
  },
  {
   "cell_type": "code",
   "execution_count": 22,
   "metadata": {},
   "outputs": [
    {
     "name": "stdout",
     "output_type": "stream",
     "text": [
      "python lab\n",
      "\n",
      "11\n"
     ]
    }
   ],
   "source": [
    "f=open('abc.txt','+r')\n",
    "max=0\n",
    "for i in range(5):\n",
    "    line=f.readline()\n",
    "    if len(line)>max:\n",
    "        max_string=line\n",
    "        max=len(line)\n",
    "print(max_string)\n",
    "print(max)\n",
    "f.close()\n"
   ]
  },
  {
   "cell_type": "markdown",
   "metadata": {},
   "source": [
    "### 05) WAP to find the size of the file named abc.txt"
   ]
  },
  {
   "cell_type": "code",
   "execution_count": 27,
   "metadata": {},
   "outputs": [
    {
     "name": "stdout",
     "output_type": "stream",
     "text": [
      "File Size is : 61 bytes\n"
     ]
    }
   ],
   "source": [
    "import os\n",
    " \n",
    "file_size = os.path.getsize('abc.txt')\n",
    "print(\"File Size is :\", file_size, \"bytes\")"
   ]
  },
  {
   "cell_type": "markdown",
   "metadata": {},
   "source": [
    "### 06) WAP to implement search function to search specific occurance of word in a given text file."
   ]
  },
  {
   "cell_type": "code",
   "execution_count": 32,
   "metadata": {},
   "outputs": [
    {
     "name": "stdout",
     "output_type": "stream",
     "text": [
      "python lab\n",
      "\n",
      "abc\n",
      "\n"
     ]
    }
   ],
   "source": [
    "f=open('abc.txt','r')\n",
    "a=input(\"enter find char:\")\n",
    "for i in range(5):\n",
    "    line=f.readline()\n",
    "    if line.find(a)!=-1:\n",
    "        print(line)\n",
    "\n",
    "f.close()"
   ]
  },
  {
   "cell_type": "markdown",
   "metadata": {},
   "source": [
    "# B"
   ]
  },
  {
   "cell_type": "markdown",
   "metadata": {},
   "source": [
    "### 01) WAP to write first 100 prime numbers to a file named primenumbers.txt \n",
    "(Note: each number should be in new line)"
   ]
  },
  {
   "cell_type": "code",
   "execution_count": 38,
   "metadata": {},
   "outputs": [],
   "source": [
    "f=open('primenumbers.txt','w')\n",
    "\n",
    "for i in range(1,100):\n",
    "    for j in range(2,i):\n",
    "        if i%j==0:\n",
    "            break\n",
    "    else:\n",
    "        f.write(str(i)+\"\\n\")\n",
    "f.close()\n"
   ]
  },
  {
   "cell_type": "markdown",
   "metadata": {},
   "source": [
    "### 02) WAP to merge two files and write it in a new file."
   ]
  },
  {
   "cell_type": "code",
   "execution_count": 46,
   "metadata": {},
   "outputs": [],
   "source": [
    "f1=open('abc.txt','r')\n",
    "x=f1.read()\n",
    "f1.close()\n",
    "f2=open('new.txt','w')\n",
    "f2.write(x)\n",
    "f2.close()\n",
    "f4=open('primenumbers.txt','r')\n",
    "x=f4.read()\n",
    "f4.close()\n",
    "f3=open('new.txt','a')\n",
    "f3.write(x)\n",
    "f3.close()\n",
    "\n",
    "\n",
    "\n",
    "   "
   ]
  },
  {
   "cell_type": "markdown",
   "metadata": {},
   "source": [
    "### 03) WAP to encrypt a text file."
   ]
  },
  {
   "cell_type": "code",
   "execution_count": 13,
   "metadata": {},
   "outputs": [],
   "source": [
    "f=open('text.txt','w')\n",
    "str=\"\"\n",
    "data=\"dulabpython\"\n",
    "for i in data:\n",
    "    str=str+chr(ord(i)+1)\n",
    "f.write(str)\n",
    "f.close()"
   ]
  },
  {
   "cell_type": "markdown",
   "metadata": {},
   "source": [
    "### 04) WAP to decrypt a previously encrypted file."
   ]
  },
  {
   "cell_type": "code",
   "execution_count": 14,
   "metadata": {},
   "outputs": [
    {
     "name": "stdout",
     "output_type": "stream",
     "text": [
      "dulabpython"
     ]
    }
   ],
   "source": [
    "f=open('text.txt','r')\n",
    "data=f.read().split()\n",
    "for i in data:\n",
    "    for j in i:\n",
    "        r=chr(ord(j)-1)\n",
    "        print(r,end=\"\")\n",
    "f.close()        "
   ]
  },
  {
   "cell_type": "markdown",
   "metadata": {},
   "source": [
    "### 05) WAP to remove a word from text file."
   ]
  },
  {
   "cell_type": "code",
   "execution_count": 10,
   "metadata": {},
   "outputs": [],
   "source": [
    "s=[\"abc\"]\n",
    "f=open('abc.txt','r')\n",
    "x=f.read().split()\n",
    "f.close()\n",
    "f=open('text.txt','w')\n",
    "\n",
    "for i in x:\n",
    "    if i not in s:\n",
    "        f.write(i)\n",
    "        f.write(\"\\n\")\n",
    "f.close()            "
   ]
  }
 ],
 "metadata": {
  "kernelspec": {
   "display_name": "Python 3 (ipykernel)",
   "language": "python",
   "name": "python3"
  },
  "language_info": {
   "codemirror_mode": {
    "name": "ipython",
    "version": 3
   },
   "file_extension": ".py",
   "mimetype": "text/x-python",
   "name": "python",
   "nbconvert_exporter": "python",
   "pygments_lexer": "ipython3",
   "version": "3.12.1"
  }
 },
 "nbformat": 4,
 "nbformat_minor": 4
}
