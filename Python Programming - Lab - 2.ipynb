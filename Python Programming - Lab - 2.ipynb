{
 "cells": [
  {
   "cell_type": "markdown",
   "metadata": {},
   "source": [
    "\n",
    "<a href='https://www.darshan.ac.in/'> <img src='https://www.darshan.ac.in/Content/media/DU_Logo.svg' width=\"250\" height=\"300\"/></a>\n",
    "<pre>\n",
    "<center><b><h1>Python Programming - 2101CS405</b></center>\n",
    "<center><b><h1>Lab - 2</b></center>\n",
    "\n",
    "<p>Name : Bhargav Javia </p>\n",
    "<P>Enrollment no: 22010101438</p>     \n",
    "<pre>"
   ]
  },
  {
   "cell_type": "markdown",
   "metadata": {},
   "source": [
    "# if..else.."
   ]
  },
  {
   "cell_type": "markdown",
   "metadata": {},
   "source": [
    "### 01) WAP to check whether the given number is positive or negative."
   ]
  },
  {
   "cell_type": "code",
   "execution_count": null,
   "metadata": {},
   "outputs": [
    {
     "name": "stdout",
     "output_type": "stream",
     "text": [
      "number if negative\n"
     ]
    }
   ],
   "source": [
    "a=float(input(\"enter number :\"))\n",
    "if a>0:\n",
    "    print(\"number is postive\")\n",
    "elif a<0:\n",
    "    print(\"number if negative\")  \n",
    "else:\n",
    "    print(\"invalid number\")"
   ]
  },
  {
   "cell_type": "markdown",
   "metadata": {},
   "source": [
    "### 02) WAP to check whether the given number is odd or even"
   ]
  },
  {
   "cell_type": "code",
   "execution_count": 8,
   "metadata": {},
   "outputs": [
    {
     "name": "stdout",
     "output_type": "stream",
     "text": [
      "number is even:\n"
     ]
    }
   ],
   "source": [
    "a=float(input(\"enter number :\"))\n",
    "\n",
    "if a%2==0:\n",
    "    print(\"number is even:\")\n",
    "else:\n",
    "    print(\"number is odd:\")    "
   ]
  },
  {
   "cell_type": "markdown",
   "metadata": {},
   "source": [
    "### 03) WAP to find out largest number from given two numbers using simple if and ternary operator."
   ]
  },
  {
   "cell_type": "code",
   "execution_count": 9,
   "metadata": {},
   "outputs": [
    {
     "name": "stdout",
     "output_type": "stream",
     "text": [
      "a is smaller than b\n"
     ]
    }
   ],
   "source": [
    "a=float(input(\"enter first number :\"))\n",
    "b=float(input(\"enter second number :\"))\n",
    "\n",
    "print(\"a is larger than b\") if a>b else print(\"a is smaller than b\")"
   ]
  },
  {
   "cell_type": "markdown",
   "metadata": {},
   "source": [
    "### 04) WAP to find out largest number from given three numbers."
   ]
  },
  {
   "cell_type": "code",
   "execution_count": 10,
   "metadata": {},
   "outputs": [
    {
     "name": "stdout",
     "output_type": "stream",
     "text": [
      "c is greater\n"
     ]
    }
   ],
   "source": [
    "a=float(input(\"enter first number :\"))\n",
    "b=float(input(\"enter second number :\"))\n",
    "c=float(input(\"enter third number :\"))\n",
    "\n",
    "if a>b and  a>c:\n",
    "    print(\"a is greater\")\n",
    "elif b>a and b>c:\n",
    "    print(\"b is greater\")\n",
    "elif c>a and c>b:\n",
    "    print(\"c is greater\")        \n"
   ]
  },
  {
   "cell_type": "markdown",
   "metadata": {},
   "source": [
    "### 05) WAP to check whether the given year is leap year or not.\n",
    "[If a year can be divisible by 4 but not divisible by 100 then it is leap year but if it is divisible by 400 then it is leap year]"
   ]
  },
  {
   "cell_type": "code",
   "execution_count": null,
   "metadata": {},
   "outputs": [],
   "source": [
    "a=float(input(\"enter the year:\"))\n",
    "\n",
    "if(a%4==0 and a%100!=0)or (a%400==0):\n",
    "    print(\"year is leap year \")\n",
    "else:\n",
    "    print(\"not a leap year \")    "
   ]
  },
  {
   "cell_type": "markdown",
   "metadata": {},
   "source": [
    "### 06) WAP in python to display the name of the day according to the number given by the user"
   ]
  },
  {
   "cell_type": "code",
   "execution_count": 13,
   "metadata": {},
   "outputs": [
    {
     "name": "stdout",
     "output_type": "stream",
     "text": [
      "friday\n"
     ]
    }
   ],
   "source": [
    "a=float(input(\"enter number :\"))\\\n",
    "\n",
    "if a==1:\n",
    "    print(\"monday\")\n",
    "elif a==2:\n",
    "    print(\"tuesday\")\n",
    "elif a==3:\n",
    "    print(\"wednesday\")\n",
    "elif a==4:\n",
    "    print(\"thursday\")\n",
    "elif a==5:\n",
    "    print(\"friday\")\n",
    "elif a==6:\n",
    "    print(\"saturday\")\n",
    "else:\n",
    "    print(\"sunday\")    "
   ]
  },
  {
   "cell_type": "markdown",
   "metadata": {},
   "source": [
    "### 07) WAP to implement simple calculator which performs (add,sub,mul,div) of two no. based on user input."
   ]
  },
  {
   "cell_type": "code",
   "execution_count": 1,
   "metadata": {},
   "outputs": [
    {
     "name": "stdout",
     "output_type": "stream",
     "text": [
      "invalid c\n"
     ]
    }
   ],
   "source": [
    "a=float(input(\"enter number a: \"))\n",
    "b=float(input(\"enter number b:\"))\n",
    "c=input(\"enter add for:+ , sum for :- ,malti for :*  ,div for :/\")\n",
    "\n",
    "if c==\"+\":\n",
    "    add=a+b\n",
    "    print(f\"additiona:{add}\")\n",
    "elif c==\"-\":\n",
    "    sub=a-b\n",
    "    print(f\"subitiona:{sub}\")\n",
    "elif c==\"*\":\n",
    "    multi = a*b\n",
    "    print(f\"multi:{multi}\")\n",
    "elif   c==\"/\":\n",
    "    div =a/b\n",
    "    print(f\"div:{div}\")\n",
    "else:\n",
    "    print(\"invalid c\")     \n"
   ]
  },
  {
   "cell_type": "markdown",
   "metadata": {},
   "source": [
    "### 08) WAP to calculate electricity bill based on following criteria. Which takes the unit from the user.\n",
    "a. First 1 to 50 units – Rs. 2.60/unit</br>\n",
    "b. Next 50 to 100 units – Rs. 3.25/unit</br>\n",
    "c. Next 100 to 200 units – Rs. 5.26/unit</br>\n",
    "d. above 200 units – Rs. 8.45/unit"
   ]
  },
  {
   "cell_type": "code",
   "execution_count": 1,
   "metadata": {},
   "outputs": [
    {
     "name": "stdout",
     "output_type": "stream",
     "text": [
      "total ruppes for second fifty units :2086.0\n"
     ]
    }
   ],
   "source": [
    "a=float(input(\"enter units :\"))\n",
    "\n",
    "if 1<=a<=50:\n",
    "    a1=a*2.60\n",
    "    print(f\"total ruppes for fist fifty units :{a1}\")\n",
    "elif 51<a<=100:\n",
    "    a2=(50*2.6)+(a-50)*3.25\n",
    "    print(f\"total ruppes for second fifty units :{a2}\")\n",
    "elif 100<a<=200:\n",
    "    a3=(50*2.6)+(50*3.25)+(a-200)*5.26\n",
    "    print(f\"total ruppes for more fifty units :{a3}\")\n",
    "elif a>200:\n",
    "    a4=(50*2.6)+(50*3.25)+(100*5.26)+(a-200)*8.45\n",
    "    print(f\"total ruppes for second fifty units :{a4}\")  \n"
   ]
  },
  {
   "cell_type": "markdown",
   "metadata": {},
   "source": [
    "### 01) WAP to read marks of five subjects. Calculate percentage and print class accordingly. \n",
    "Fail below 35 </br>\n",
    "Pass Class between 35 to 45 </br>\n",
    "Second Class</br>\n",
    "between 45 to 60</br>\n",
    "First Class between 60 to 70</br> \n",
    "Distinction if more than 70"
   ]
  },
  {
   "cell_type": "code",
   "execution_count": 44,
   "metadata": {},
   "outputs": [
    {
     "name": "stdout",
     "output_type": "stream",
     "text": [
      "student pass in fist class \n"
     ]
    }
   ],
   "source": [
    "a=float(input(\"enter first subject  marks :\"))\n",
    "b=float(input(\"enter second subject  marks :\"))\n",
    "c=float(input(\"enter thired  subject  marks :\"))\n",
    "d=float(input(\"enter fourtht subject  marks :\"))\n",
    "e=float(input(\"enter fifth subject  marks :\"))\n",
    "\n",
    "# Fail below 35 </br>\n",
    "# Pass Class between 35 to 45 </br>\n",
    "# Second Class</br>\n",
    "# between 45 to 60</br>\n",
    "# First Class between 60 to 70</br> \n",
    "# Distinction if more than 70\n",
    "\n",
    "total =((a+b+c+d+e)/500)*100\n",
    "\n",
    "if total<35:\n",
    "    print(\"student failed\")\n",
    "elif 35<=total<=45:\n",
    "    print(\"student pass in passs class\")\n",
    "elif  45<total<=60:\n",
    "    print(\"student pass in second class \")\n",
    "elif 60<total<=70:\n",
    "    print(\"student pass in fist class \")\n",
    "elif total>70:\n",
    "    print(\"studentn pass in distinction class \")               "
   ]
  },
  {
   "cell_type": "markdown",
   "metadata": {},
   "source": [
    "### 02) WAP to find out the Maximum and Minimum number from given 4 numbers."
   ]
  },
  {
   "cell_type": "code",
   "execution_count": 42,
   "metadata": {},
   "outputs": [
    {
     "name": "stdout",
     "output_type": "stream",
     "text": [
      "d is maximum number\n",
      "c is maximum number\n"
     ]
    }
   ],
   "source": [
    "a=float(input(\"enter first number  :\"))\n",
    "b=float(input(\"enter second number :\"))\n",
    "c=float(input(\"enter third number :\"))\n",
    "d=float(input(\"enter fourth number :\"))\n",
    "\n",
    "if a>b and a>c and a>d :\n",
    "    print(\"a is maximum number\")\n",
    "elif b>a and b>c and b>d:\n",
    "    print(\"b is maximum number\")\n",
    "elif c>a and c>b and c>d:\n",
    "    print(\"c is maximum number\")\n",
    "elif d>a and d>b and d>c:\n",
    "    print(\"d is maximum number\")\n",
    "\n",
    "if a<b and a<c and a<d:\n",
    "    print(\"a is minimum number\")\n",
    "elif b<a and b<c and b<d:\n",
    "    print(\"b is minium number\")\n",
    "elif c<a and c<b and c<d:\n",
    "    print(\"c is minium number\")\n",
    "elif d<a and d<b and d<c:\n",
    "     print(\"d is minium number\")\n"
   ]
  },
  {
   "cell_type": "markdown",
   "metadata": {},
   "source": [
    "### 03) WAP to input an integer number and check the last digit of number is even or odd."
   ]
  },
  {
   "cell_type": "code",
   "execution_count": 2,
   "metadata": {},
   "outputs": [
    {
     "name": "stdout",
     "output_type": "stream",
     "text": [
      "a is even\n"
     ]
    }
   ],
   "source": [
    "a=float(input(\"enter number  :\"))\n",
    "\n",
    "num=a%10\n",
    "\n",
    "if num%2==0:\n",
    "    print(\"a is even\")\n",
    "else:\n",
    "    print(\"a is odd\")    \n"
   ]
  },
  {
   "cell_type": "markdown",
   "metadata": {},
   "source": [
    "### 04) WAP to determine the roots of the equation ax2+bx+c=0."
   ]
  },
  {
   "cell_type": "code",
   "execution_count": 8,
   "metadata": {},
   "outputs": [
    {
     "name": "stdout",
     "output_type": "stream",
     "text": [
      "sol: are (-0.5-0.8660254037844386j) abd (-0.5-0.8660254037844386j)\n"
     ]
    }
   ],
   "source": [
    "import cmath\n",
    "a=float(input(\"enter first :\"))\n",
    "b=float(input(\"enter second :\"))\n",
    "c=float(input(\"enter thried :\"))\n",
    "\n",
    "d=(b**2)-(4*a*c)\n",
    "\n",
    "sol1 = (-b-cmath.sqrt(d))/(2*a)\n",
    "sol2 = (-b-cmath.sqrt(d))/(2*a)\n",
    "\n",
    "print('sol: are {0} and {1}'.format(sol1,sol2))"
   ]
  }
 ],
 "metadata": {
  "kernelspec": {
   "display_name": "Python 3 (ipykernel)",
   "language": "python",
   "name": "python3"
  },
  "language_info": {
   "codemirror_mode": {
    "name": "ipython",
    "version": 3
   },
   "file_extension": ".py",
   "mimetype": "text/x-python",
   "name": "python",
   "nbconvert_exporter": "python",
   "pygments_lexer": "ipython3",
   "version": "3.12.2"
  }
 },
 "nbformat": 4,
 "nbformat_minor": 4
}
