{
 "cells": [
  {
   "cell_type": "markdown",
   "metadata": {},
   "source": [
    "\n",
    "<a href='https://www.darshan.ac.in/'> <img src='https://www.darshan.ac.in/Content/media/DU_Logo.svg' width=\"250\" height=\"300\"/></a>\n",
    "<pre>\n",
    "<center><b><h1>Python Programming - 2101CS405</b></center>\n",
    "<center><b><h1>Lab - 4</b></center> \n",
    "\n",
    "<P>JAVIA BHARGAV </P>\n",
    "<p>22010101438</p>\n",
    "<pre>"
   ]
  },
  {
   "cell_type": "markdown",
   "metadata": {},
   "source": [
    "# String"
   ]
  },
  {
   "cell_type": "markdown",
   "metadata": {},
   "source": [
    "### 01) WAP to check given string is palindrome or not."
   ]
  },
  {
   "cell_type": "code",
   "execution_count": 11,
   "metadata": {},
   "outputs": [
    {
     "name": "stdout",
     "output_type": "stream",
     "text": [
      "not palindrome\n"
     ]
    }
   ],
   "source": [
    "n= input(\"enter number :\")\n",
    "a=n[::-1]\n",
    "\n",
    "if n.lower()== a.lower() :\n",
    "    print(\"palindrome\")\n",
    "else:\n",
    "    print(\"not palindrome\")    "
   ]
  },
  {
   "cell_type": "markdown",
   "metadata": {},
   "source": [
    "### 02) WAP to reverse the words in given string."
   ]
  },
  {
   "cell_type": "code",
   "execution_count": 4,
   "metadata": {},
   "outputs": [
    {
     "name": "stdout",
     "output_type": "stream",
     "text": [
      "reversed string: vagrahb\n"
     ]
    }
   ],
   "source": [
    "str=input(\"enter String :\")\n",
    "print(\"reversed string:\",str[::-1])\n"
   ]
  },
  {
   "cell_type": "markdown",
   "metadata": {},
   "source": [
    "### 03) WAP to remove ith character from given string"
   ]
  },
  {
   "cell_type": "code",
   "execution_count": 14,
   "metadata": {},
   "outputs": [
    {
     "name": "stdout",
     "output_type": "stream",
     "text": [
      "bargav\n",
      "bhargav\n"
     ]
    }
   ],
   "source": [
    "str=input(\"enter String:\")\n",
    "index =int(input(\"enter index:\"))\n",
    "\n",
    "if len(str)>index:\n",
    "    print(str[:index]+str[index+1:])\n",
    "    print(str)\n",
    "else :\n",
    "    print(\"index out of range\")\n"
   ]
  },
  {
   "cell_type": "markdown",
   "metadata": {},
   "source": [
    "### 04) WAP to find length of String without using len function."
   ]
  },
  {
   "cell_type": "code",
   "execution_count": 15,
   "metadata": {},
   "outputs": [
    {
     "name": "stdout",
     "output_type": "stream",
     "text": [
      "length of str : 7\n"
     ]
    }
   ],
   "source": [
    "str = input(\"enter String:\")\n",
    "count=0\n",
    "for i in str:\n",
    "    count=count+1\n",
    "print(\"length of str :\",count)    \n"
   ]
  },
  {
   "cell_type": "markdown",
   "metadata": {},
   "source": [
    "### 05) WAP to print even length word in string."
   ]
  },
  {
   "cell_type": "code",
   "execution_count": 26,
   "metadata": {},
   "outputs": [
    {
     "name": "stdout",
     "output_type": "stream",
     "text": [
      "hra\n"
     ]
    }
   ],
   "source": [
    "str = input(\"enter String:\")\n",
    "print(str[1::2])\n",
    "     "
   ]
  },
  {
   "cell_type": "markdown",
   "metadata": {},
   "source": [
    "### 06) WAP to count numbers of vowels in given string."
   ]
  },
  {
   "cell_type": "code",
   "execution_count": 28,
   "metadata": {},
   "outputs": [
    {
     "name": "stdout",
     "output_type": "stream",
     "text": [
      "count of vowels 2\n"
     ]
    }
   ],
   "source": [
    "str = input(\"enter String:\")\n",
    "count=0\n",
    "for i in str:\n",
    "    if  i=='a' or i=='e' or i=='i' or i=='o' or i=='u':\n",
    "        count+=1\n",
    "print(\"count of vowels\",count)            \n",
    "\n",
    "           "
   ]
  },
  {
   "cell_type": "markdown",
   "metadata": {},
   "source": [
    "### 07) WAP to convert given array to string."
   ]
  },
  {
   "cell_type": "code",
   "execution_count": 41,
   "metadata": {},
   "outputs": [
    {
     "name": "stdout",
     "output_type": "stream",
     "text": [
      "bhargav\n"
     ]
    }
   ],
   "source": [
    "a=['b','h','a','r','g','a','v']\n",
    "name=''\n",
    "for i in a:\n",
    "    name+=i\n",
    "print(name)\n"
   ]
  },
  {
   "cell_type": "markdown",
   "metadata": {},
   "source": [
    "### 01) WAP to find out duplicate characters in given string."
   ]
  },
  {
   "cell_type": "code",
   "execution_count": 45,
   "metadata": {},
   "outputs": [
    {
     "name": "stdout",
     "output_type": "stream",
     "text": [
      "aav ava "
     ]
    }
   ],
   "source": [
    "str=input(\"enter String:\")\n",
    "\n",
    "for i in str:\n",
    "    for j in range(str.find(i)+1,len(str)):\n",
    "        if str[str.find(i)]== str[j]:\n",
    "            print(i,end=\"\")\n",
    "            break\n"
   ]
  },
  {
   "cell_type": "markdown",
   "metadata": {},
   "source": [
    "### 02) WAP to capitalize the first and last character of each word in a string."
   ]
  },
  {
   "cell_type": "code",
   "execution_count": 46,
   "metadata": {},
   "outputs": [
    {
     "name": "stdout",
     "output_type": "stream",
     "text": [
      "Bhargav\n"
     ]
    }
   ],
   "source": [
    "str=input(\"string enter :\")\n",
    "\n",
    "for i in str.split():\n",
    "    print(i[0].upper()+i[1:])\n",
    "    "
   ]
  },
  {
   "cell_type": "markdown",
   "metadata": {},
   "source": [
    "### 03) WAP to find Maximum frequency character in String."
   ]
  },
  {
   "cell_type": "code",
   "execution_count": 50,
   "metadata": {},
   "outputs": [
    {
     "name": "stdout",
     "output_type": "stream",
     "text": [
      "a\n"
     ]
    }
   ],
   "source": [
    "str=input(\"enter string :\")\n",
    "dic={}\n",
    "for i in str:\n",
    "    if i in dic:\n",
    "        dic[i]+=1\n",
    "    else:\n",
    "        dic[i]=1\n",
    "\n",
    "print(max(dic,key=dic.get))"
   ]
  },
  {
   "cell_type": "markdown",
   "metadata": {},
   "source": [
    "### 04) WAP to find Minimum frequency character in String."
   ]
  },
  {
   "cell_type": "code",
   "execution_count": 51,
   "metadata": {},
   "outputs": [
    {
     "name": "stdout",
     "output_type": "stream",
     "text": [
      "b\n"
     ]
    }
   ],
   "source": [
    "str=input(\"enter string :\")\n",
    "\n",
    "dic={}\n",
    "\n",
    "for i in str:\n",
    "    if i in dic:\n",
    "        dic[i]+=1\n",
    "    else:\n",
    "        dic[i]=1\n",
    "\n",
    "print(min(dic,key=dic.get))"
   ]
  },
  {
   "cell_type": "markdown",
   "metadata": {},
   "source": [
    "### 05) WAP to check if a given string is binary string or not"
   ]
  },
  {
   "cell_type": "code",
   "execution_count": 65,
   "metadata": {},
   "outputs": [
    {
     "name": "stdout",
     "output_type": "stream",
     "text": [
      "binary\n",
      "binary\n"
     ]
    }
   ],
   "source": [
    "str=input(\"enter string :\")\n",
    "\n",
    "for i in str:\n",
    "    if i not in '01':\n",
    "        print(\"not binary\")\n",
    "        break\n",
    "    else:\n",
    "        print(\"binary\")\n",
    "        "
   ]
  },
  {
   "cell_type": "markdown",
   "metadata": {},
   "source": [
    "<P>extra</>\n",
    "<p>print <br/>1 <br/>\n",
    "2 3<br/>\n",
    "4 5 6 <br/>\n",
    "7 8 9 10 <br/>\n",
    "11 12 13 14 15</>"
   ]
  },
  {
   "cell_type": "code",
   "execution_count": 79,
   "metadata": {},
   "outputs": [
    {
     "name": "stdout",
     "output_type": "stream",
     "text": [
      " \n",
      "1 \n",
      " \n",
      "2 3 \n",
      " \n",
      "4 5 6 \n",
      " \n",
      "7 8 9 10 \n",
      " \n",
      "11 12 13 14 15 \n"
     ]
    }
   ],
   "source": [
    "col=int(input(\"enter col\"))\n",
    "count=1\n",
    "for i in range(0,col):\n",
    "    print(\" \")\n",
    "    for j in range(0,i+1):\n",
    "        print(count,end=\" \")\n",
    "        count+=1\n",
    "    print()"
   ]
  }
 ],
 "metadata": {
  "kernelspec": {
   "display_name": "Python 3 (ipykernel)",
   "language": "python",
   "name": "python3"
  },
  "language_info": {
   "codemirror_mode": {
    "name": "ipython",
    "version": 3
   },
   "file_extension": ".py",
   "mimetype": "text/x-python",
   "name": "python",
   "nbconvert_exporter": "python",
   "pygments_lexer": "ipython3",
   "version": "3.12.1"
  },
  "vscode": {
   "interpreter": {
    "hash": "31f2aee4e71d21fbe5cf8b01ff0e069b9275f58929596ceb00d14d90e3e16cd6"
   }
  }
 },
 "nbformat": 4,
 "nbformat_minor": 4
}
