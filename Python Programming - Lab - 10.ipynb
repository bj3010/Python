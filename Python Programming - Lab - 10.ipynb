{
 "cells": [
  {
   "attachments": {},
   "cell_type": "markdown",
   "metadata": {},
   "source": [
    "<a href='https://www.darshan.ac.in/'> <img src='https://www.darshan.ac.in/Content/media/DU_Logo.svg' width=\"250\" height=\"300\"/></a>\n",
    "<pre>\n",
    "<center><b><h1>Python Programming - 2101CS405</b></center>\n",
    "<center><b><h1>Lab - 10</b></center>    \n",
    "<p>JAVIA BHARGAV <br/>22010101438</p>\n",
    "<pre>"
   ]
  },
  {
   "cell_type": "markdown",
   "metadata": {},
   "source": [
    "# Modules"
   ]
  },
  {
   "cell_type": "markdown",
   "metadata": {},
   "source": [
    "# A"
   ]
  },
  {
   "cell_type": "markdown",
   "metadata": {},
   "source": [
    "### 01) WAP to create Calculator module which defines functions like add, sub,mul and div. create another file that uses the Calculator module."
   ]
  },
  {
   "cell_type": "code",
   "execution_count": 11,
   "metadata": {},
   "outputs": [],
   "source": [
    "f=open(\"calculator.py\",\"\n",
    "f.close()"
   ]
  },
  {
   "cell_type": "code",
   "execution_count": 18,
   "metadata": {},
   "outputs": [
    {
     "name": "stdout",
     "output_type": "stream",
     "text": [
      "14\n",
      "5\n",
      "50\n",
      "2.0\n"
     ]
    }
   ],
   "source": [
    "import calculator\n",
    "\n",
    "addition=calculator.add(2,12)\n",
    "sub=calculator.sub(10,5)\n",
    "multipl=calculator.mul(10,5)\n",
    "div=calculator.div(10,5)\n",
    "\n",
    "\n",
    "print(addition)\n",
    "print(sub)\n",
    "print(multipl)\n",
    "print(div)\n"
   ]
  },
  {
   "cell_type": "markdown",
   "metadata": {},
   "source": [
    "### 02) WAP to Pick a random character from a given String."
   ]
  },
  {
   "cell_type": "code",
   "execution_count": 23,
   "metadata": {},
   "outputs": [
    {
     "name": "stdout",
     "output_type": "stream",
     "text": [
      "Random character: c\n"
     ]
    }
   ],
   "source": [
    "import random\n",
    "a=input(\"enter string \")\n",
    "randomchar = random.choice(a )\n",
    "print(f\"Random character: {randomchar}\")\n"
   ]
  },
  {
   "cell_type": "markdown",
   "metadata": {},
   "source": [
    "### 03) WAP to Pick a random element from a given list."
   ]
  },
  {
   "cell_type": "code",
   "execution_count": 24,
   "metadata": {},
   "outputs": [
    {
     "name": "stdout",
     "output_type": "stream",
     "text": [
      "Random character: e\n"
     ]
    }
   ],
   "source": [
    "import random\n",
    "\n",
    "list=[\"a\",\"b\",\"c\",\"d\",\"e\",\"f\",\"g\",\"h\"]\n",
    "\n",
    "randomchar = random.choice(list)\n",
    "\n",
    "print(f\"Random character: {randomchar}\")"
   ]
  },
  {
   "cell_type": "markdown",
   "metadata": {},
   "source": [
    "### 04) WAP to demonstrate the use of the math module."
   ]
  },
  {
   "cell_type": "code",
   "execution_count": 34,
   "metadata": {},
   "outputs": [
    {
     "name": "stdout",
     "output_type": "stream",
     "text": [
      "3.141592653589793\n",
      "<built-in function fabs>\n",
      "10.0\n",
      "3628800\n",
      "2\n",
      "3\n",
      "False\n",
      "3\n",
      "2.0\n",
      "7.105427357601002e-15\n"
     ]
    }
   ],
   "source": [
    "import math\n",
    "\n",
    "print(math.pi)\n",
    "print(math.fabs)\n",
    "print(math.copysign(10,144))\n",
    "print(math.factorial(10))\n",
    "print(math.floor(2.4))\n",
    "print(math.ceil(2.555))\n",
    "print(math.isinf(10))\n",
    "print(math.isqrt(10))\n",
    "print(math.remainder(10,4))\n",
    "print(math.ulp(-45))\n",
    "      \n",
    "\n"
   ]
  },
  {
   "cell_type": "markdown",
   "metadata": {},
   "source": [
    "### 05) WAP to demonstrate the use of date time module."
   ]
  },
  {
   "cell_type": "code",
   "execution_count": 42,
   "metadata": {},
   "outputs": [
    {
     "name": "stdout",
     "output_type": "stream",
     "text": [
      "2024-02-20 12:52:20.134956\n",
      "1708413740.135958\n",
      "1345 days, 0:00:00\n",
      "2024-02-20 12:52:20.135958\n",
      "2003-10-30\n"
     ]
    }
   ],
   "source": [
    "import datetime as DT\n",
    "\n",
    "print(DT.datetime.now())\n",
    "print(DT.datetime.timestamp(DT.datetime.now()))\n",
    "print(DT.timedelta(days=1345))\n",
    "t1= DT.datetime.now()\n",
    "print(t1)\n",
    "t2=DT.date.fromisoformat('2003-10-30')\n",
    "print(t2)"
   ]
  },
  {
   "cell_type": "markdown",
   "metadata": {},
   "source": [
    "# B"
   ]
  },
  {
   "cell_type": "markdown",
   "metadata": {},
   "source": [
    "### 01) WAP to Roll dice in such a way that every time you get the same number."
   ]
  },
  {
   "cell_type": "code",
   "execution_count": 49,
   "metadata": {},
   "outputs": [
    {
     "name": "stdout",
     "output_type": "stream",
     "text": [
      "Rolled: 2\n",
      "Rolled: 5\n",
      "Rolled: 5\n",
      "Rolled: 1\n",
      "Rolled: 5\n"
     ]
    }
   ],
   "source": [
    "import random\n",
    "\n",
    "for _ in range(5):\n",
    "    rollresult = random.randint(1, 6)\n",
    "    print(f\"Rolled: {rollresult}\")\n"
   ]
  },
  {
   "cell_type": "markdown",
   "metadata": {},
   "source": [
    "### 02) WAP to generate 3 random integers between 100 and 999 which is divisible by 5."
   ]
  },
  {
   "cell_type": "code",
   "execution_count": 73,
   "metadata": {},
   "outputs": [
    {
     "name": "stdout",
     "output_type": "stream",
     "text": [
      "Rolled: 710\n"
     ]
    }
   ],
   "source": [
    "import random\n",
    "\n",
    "for _ in range(3):\n",
    "    rol=random.randint(100,999)\n",
    "    if rol%5==0:\n",
    "        print(f\"Rolled: {rol}\")\n",
    "       "
   ]
  },
  {
   "cell_type": "markdown",
   "metadata": {},
   "source": [
    "### 03) WAP to generate 100 random lottery tickets and pick two lucky tickets from it as a winner."
   ]
  },
  {
   "cell_type": "code",
   "execution_count": 161,
   "metadata": {},
   "outputs": [
    {
     "name": "stdout",
     "output_type": "stream",
     "text": [
      "winning ticket: [12, 2]\n"
     ]
    }
   ],
   "source": [
    "import random as R\n",
    "list=[]\n",
    "for _ in range(100):\n",
    "    lottery=R.randint(1,100)\n",
    "    # print(f\"Lottery: {lottery}\")\n",
    "    list.append(lottery )\n",
    "\n",
    "wineer=random.sample(list,2)\n",
    "   \n",
    "    \n",
    "\n",
    "print(f\"winning ticket: {wineer}\")\n",
    "\n",
    "\n"
   ]
  },
  {
   "cell_type": "markdown",
   "metadata": {},
   "source": [
    "\n",
    "\n",
    "### 04) WAP to print current date and time in Python."
   ]
  },
  {
   "cell_type": "code",
   "execution_count": 108,
   "metadata": {},
   "outputs": [
    {
     "name": "stdout",
     "output_type": "stream",
     "text": [
      "2024-02-20 13:10:42.776317\n"
     ]
    }
   ],
   "source": [
    "import datetime\n",
    "\n",
    "print(datetime.datetime.now())"
   ]
  },
  {
   "cell_type": "markdown",
   "metadata": {},
   "source": [
    "### 05) Subtract a week (7 days) from a given date in Python."
   ]
  },
  {
   "cell_type": "code",
   "execution_count": 109,
   "metadata": {},
   "outputs": [
    {
     "name": "stdout",
     "output_type": "stream",
     "text": [
      "2024-02-13 13:11:04.391787\n"
     ]
    }
   ],
   "source": [
    "import datetime\n",
    "\n",
    "date=datetime.datetime.now()\n",
    "\n",
    "date=date-datetime.timedelta(days=7)\n",
    "\n",
    "print(date)"
   ]
  },
  {
   "cell_type": "markdown",
   "metadata": {},
   "source": [
    "### 06) WAP to Calculate number of days between two given dates."
   ]
  },
  {
   "cell_type": "code",
   "execution_count": 135,
   "metadata": {},
   "outputs": [
    {
     "name": "stdout",
     "output_type": "stream",
     "text": [
      "2024-02-20 13:16:53.863365\n",
      "7418 days, 13:16:53.863365\n"
     ]
    }
   ],
   "source": [
    "import datetime\n",
    "\n",
    "date1=datetime.datetime.now()\n",
    "date2=datetime.datetime(2003,10,30)\n",
    "\n",
    "diff=date1-date2\n",
    "print(diff)"
   ]
  },
  {
   "cell_type": "markdown",
   "metadata": {},
   "source": [
    "### 07) WAP to Find the day of the week of a given date."
   ]
  },
  {
   "cell_type": "code",
   "execution_count": 129,
   "metadata": {},
   "outputs": [
    {
     "name": "stdout",
     "output_type": "stream",
     "text": [
      "1\n"
     ]
    }
   ],
   "source": [
    "import  datetime\n",
    "\n",
    "date=datetime.datetime.now()\n",
    "\n",
    "day=date.weekday()\n",
    "\n",
    "print(day)"
   ]
  }
 ],
 "metadata": {
  "kernelspec": {
   "display_name": "Python 3 (ipykernel)",
   "language": "python",
   "name": "python3"
  },
  "language_info": {
   "codemirror_mode": {
    "name": "ipython",
    "version": 3
   },
   "file_extension": ".py",
   "mimetype": "text/x-python",
   "name": "python",
   "nbconvert_exporter": "python",
   "pygments_lexer": "ipython3",
   "version": "0.0.0"
  }
 },
 "nbformat": 4,
 "nbformat_minor": 4
}
