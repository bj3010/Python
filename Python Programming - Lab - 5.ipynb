{
 "cells": [
  {
   "cell_type": "markdown",
   "metadata": {},
   "source": [
    "\n",
    "<a href='https://www.darshan.ac.in/'> <img src='https://www.darshan.ac.in/Content/media/DU_Logo.svg' width=\"250\" height=\"300\"/></a>\n",
    "<pre>\n",
    "<center><b><h1>Python Programming - 2101CS405</b></center>\n",
    "<center><b><h1>Lab - 5</b></center>\n",
    "<p>JAVIA BHARGAV </p>\n",
    "<p>22010101438</p>    \n",
    "<pre>"
   ]
  },
  {
   "cell_type": "markdown",
   "metadata": {},
   "source": [
    "# list"
   ]
  },
  {
   "cell_type": "markdown",
   "metadata": {},
   "source": [
    "### 01) WAP to find sum of all the elements in List."
   ]
  },
  {
   "cell_type": "code",
   "execution_count": 18,
   "metadata": {},
   "outputs": [
    {
     "name": "stdout",
     "output_type": "stream",
     "text": [
      "21\n"
     ]
    }
   ],
   "source": [
    "a=[1,2,3,4,5,6]\n",
    "\n",
    "print(sum(a))"
   ]
  },
  {
   "cell_type": "markdown",
   "metadata": {},
   "source": [
    "### 02) WAP to find largest element in a List."
   ]
  },
  {
   "cell_type": "code",
   "execution_count": 17,
   "metadata": {},
   "outputs": [
    {
     "name": "stdout",
     "output_type": "stream",
     "text": [
      "21\n"
     ]
    }
   ],
   "source": [
    "a=[1,3,5,3,21,1,1,0]\n",
    "\n",
    "n=a[0]\n",
    "lar=a[0]\n",
    "for i in a:\n",
    "    if n<i:\n",
    "        lar=i\n",
    "    num=i\n",
    "print(lar)        "
   ]
  },
  {
   "cell_type": "markdown",
   "metadata": {},
   "source": [
    "### 03) WAP to split the List into two and append the first part to the end."
   ]
  },
  {
   "cell_type": "code",
   "execution_count": 23,
   "metadata": {},
   "outputs": [
    {
     "name": "stdout",
     "output_type": "stream",
     "text": [
      "['g', 'a', 'v', 'j', 'b', 'h', 'a', 'r']\n"
     ]
    }
   ],
   "source": [
    "a=['b','h','a','r','g','a','v','j']\n",
    "mid=len(a)//2\n",
    "\n",
    "a1=a[:mid]\n",
    "a2=a[mid:]\n",
    "b=a2+a1\n",
    "print(b)"
   ]
  },
  {
   "cell_type": "markdown",
   "metadata": {},
   "source": [
    "### 04) WAP to interchange first and last elements in list entered by a user."
   ]
  },
  {
   "cell_type": "code",
   "execution_count": 29,
   "metadata": {},
   "outputs": [
    {
     "name": "stdout",
     "output_type": "stream",
     "text": [
      "['3', '1', '1', '1', '1', '1', '1', '1', '3']\n"
     ]
    }
   ],
   "source": [
    "ar=input(\"enter number :\").split()\n",
    "a=[i for i in ar]\n",
    "ar[0],ar[-1]=ar[-1],ar[-1]\n",
    "print(ar)"
   ]
  },
  {
   "cell_type": "markdown",
   "metadata": {},
   "source": [
    "### 05) WAP to interchange the elements on two positions entered by a user."
   ]
  },
  {
   "cell_type": "code",
   "execution_count": 37,
   "metadata": {},
   "outputs": [
    {
     "name": "stdout",
     "output_type": "stream",
     "text": [
      "['1', '2', '4', '5', '6', '7', '8']\n"
     ]
    }
   ],
   "source": [
    "ar=input(\"enter number\").split()\n",
    "ar=[i for i in ar]\n",
    "pos1=int (input(\"enter position 1 :\"))\n",
    "pos2=int (input(\"enter position 2:\"))\n",
    "\n",
    "ar[pos1],ar[pos2]=ar[pos2],ar[pos1]\n",
    "print(a)"
   ]
  },
  {
   "cell_type": "markdown",
   "metadata": {},
   "source": [
    "### 06) WAP to reverses the list entered by user."
   ]
  },
  {
   "cell_type": "code",
   "execution_count": 38,
   "metadata": {},
   "outputs": [
    {
     "name": "stdout",
     "output_type": "stream",
     "text": [
      "['9', '8', '7', '6', '5', '4', '3', '2', '1']\n"
     ]
    }
   ],
   "source": [
    "a=input(\"enter number\").split()\n",
    "a.reverse()\n",
    "print(a)"
   ]
  },
  {
   "cell_type": "markdown",
   "metadata": {},
   "source": [
    "### 07) Python program to remove multiple elements from a list using list comprehension"
   ]
  },
  {
   "cell_type": "code",
   "execution_count": 14,
   "metadata": {},
   "outputs": [
    {
     "name": "stdout",
     "output_type": "stream",
     "text": [
      "The original list is [1, 2, 3, 4, 5, 6, 7, 8, 9, 10].\n",
      " after removing [2, 4, 6, 8] is [1, 3, 5, 7, 9, 10].\n"
     ]
    }
   ],
   "source": [
    "original_list = [1, 2, 3, 4, 5, 6, 7, 8, 9, 10]\n",
    "elements_to_remove = [2, 4, 6, 8]\n",
    "\n",
    "new_list = [i for i in original_list if i not in elements_to_remove]\n",
    "\n",
    "print(f\"The original list is {original_list}.\")\n",
    "print(f\" after removing {elements_to_remove} is {new_list}.\")\n",
    "\n"
   ]
  },
  {
   "cell_type": "markdown",
   "metadata": {},
   "source": [
    "### 08) Create a list from the specified start to end index of another list."
   ]
  },
  {
   "cell_type": "code",
   "execution_count": 16,
   "metadata": {},
   "outputs": [
    {
     "name": "stdout",
     "output_type": "stream",
     "text": [
      " original list is [10, 10, 10, 10, 20, 30, 40, 50, 60].\n",
      "list from index 1 to index 5 is [10, 10, 10, 20, 30].\n"
     ]
    }
   ],
   "source": [
    "original_list = [10,10,10,10, 20, 30, 40, 50, 60]\n",
    "start_index =int (input(\"enter index\"))\n",
    "end_index = int(input(\"enter index\"))\n",
    "new_list = original_list[start_index:end_index+1]\n",
    "\n",
    "print(f\" original list is {original_list}.\")\n",
    "print(f\"list from index {start_index} to index {end_index} is {new_list}.\")\n"
   ]
  },
  {
   "cell_type": "markdown",
   "metadata": {},
   "source": [
    "### 09) Input comma separated elements, convert into list and print."
   ]
  },
  {
   "cell_type": "code",
   "execution_count": 22,
   "metadata": {},
   "outputs": [
    {
     "name": "stdout",
     "output_type": "stream",
     "text": [
      "The input string is b,h,a,r,g,a,v.\n",
      "The input list is ['b', 'h', 'a', 'r', 'g', 'a', 'v'].\n",
      "The integer list is ['b', 'h', 'a', 'r', 'g', 'a', 'v'].\n"
     ]
    }
   ],
   "source": [
    "string = input(\"Enter string \")\n",
    "list = string.split(\",\")\n",
    "list = [i for i in list]\n",
    "\n",
    "print(f\" string {string}.\")\n",
    "print(f\" list  {list}.\")\n"
   ]
  },
  {
   "cell_type": "markdown",
   "metadata": {},
   "source": [
    "### 01) WAP to count Even and Odd numbers in a List."
   ]
  },
  {
   "cell_type": "code",
   "execution_count": 28,
   "metadata": {},
   "outputs": [
    {
     "name": "stdout",
     "output_type": "stream",
     "text": [
      "odd num 3\n",
      "even number  3\n"
     ]
    }
   ],
   "source": [
    "a=input(\"enter number \").split()\n",
    "a=[int(i) for i in a]\n",
    "odd=0\n",
    "even=0\n",
    "for i in a:\n",
    "    if(i%2 ==0):\n",
    "        odd+=1\n",
    "    else :\n",
    "        even+=1 \n",
    "print(\"odd num\",odd)\n",
    "print(\"even number \",even)           "
   ]
  },
  {
   "cell_type": "markdown",
   "metadata": {},
   "source": [
    "### 02) Python program to find N largest and smallest elements from the list"
   ]
  },
  {
   "cell_type": "code",
   "execution_count": 30,
   "metadata": {},
   "outputs": [
    {
     "name": "stdout",
     "output_type": "stream",
     "text": [
      "largest_elements 6\n",
      "smallest_elements 5\n"
     ]
    }
   ],
   "source": [
    "a=input(\"enter number \").split()\n",
    "a=[i for i in a]\n",
    "a.sort()\n",
    "n =int(input(\"enter n :\"))\n",
    "print(\"largest_elements\",a[-n])\n",
    "print(\"smallest_elements\",a[n])\n"
   ]
  },
  {
   "cell_type": "markdown",
   "metadata": {},
   "source": [
    "### 03) WAP to print duplicates from a list of integers"
   ]
  },
  {
   "cell_type": "code",
   "execution_count": 5,
   "metadata": {},
   "outputs": [
    {
     "name": "stdout",
     "output_type": "stream",
     "text": [
      "The original list is [1, 2, 1, 2, 3, 4, 0, 6, 5, 1, 1, 2, 5, 6, 7, 8, 9, 9].\n",
      "The duplicates in the list are [1, 2, 5, 6, 9].\n"
     ]
    }
   ],
   "source": [
    "b = [1, 2, 1, 2, 3, 4, 0,6 ,5, 1, 1, 2, 5, 6, 7, 8, 9, 9]\n",
    "\n",
    "duplicates= list(set([x for x in b if b.count(x) > 1]))\n",
    "\n",
    "print(f\"The original list is {b}.\")\n",
    "print(f\"The duplicates in the list are {duplicates}.\")\n"
   ]
  }
 ],
 "metadata": {
  "kernelspec": {
   "display_name": "Python 3 (ipykernel)",
   "language": "python",
   "name": "python3"
  },
  "language_info": {
   "codemirror_mode": {
    "name": "ipython",
    "version": 3
   },
   "file_extension": ".py",
   "mimetype": "text/x-python",
   "name": "python",
   "nbconvert_exporter": "python",
   "pygments_lexer": "ipython3",
   "version": "3.12.1"
  }
 },
 "nbformat": 4,
 "nbformat_minor": 4
}
