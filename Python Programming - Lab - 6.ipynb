{
 "cells": [
  {
   "attachments": {},
   "cell_type": "markdown",
   "metadata": {},
   "source": [
    "<a href='https://www.darshan.ac.in/'> <img src='https://www.darshan.ac.in/Content/media/DU_Logo.svg' width=\"250\" height=\"300\"/></a>\n",
    "<pre>\n",
    "<center><b><h1>Python Programming - 2101CS405</b></center>\n",
    "<center><b><h1>Lab - 6</b></center>\n",
    "<p>\n",
    "JAVIA BHARGAV <br/>\n",
    "22010101438\n",
    "</p>        \n",
    "<pre>"
   ]
  },
  {
   "cell_type": "markdown",
   "metadata": {},
   "source": [
    "# Tuples, dictionary, set"
   ]
  },
  {
   "cell_type": "markdown",
   "metadata": {},
   "source": [
    "# A"
   ]
  },
  {
   "cell_type": "markdown",
   "metadata": {},
   "source": [
    "### 01) WAP to sort python dictionary by key or value."
   ]
  },
  {
   "cell_type": "code",
   "execution_count": 1,
   "metadata": {},
   "outputs": [
    {
     "name": "stdout",
     "output_type": "stream",
     "text": [
      "{'Abhay': 89, 'Abhi': 45, 'Abhishek': 100, 'Bhargav': 98}\n"
     ]
    }
   ],
   "source": [
    "# Sort using key\n",
    "student = {'Abhishek':100, 'Bhargav':98, 'Abhi': 45, 'Abhay': 89}\n",
    "sorted_list = sorted(student.items(), key= lambda x:x[0])\n",
    "student_sorted_dict = dict(sorted_list)\n",
    "print(student_sorted_dict)\n"
   ]
  },
  {
   "cell_type": "code",
   "execution_count": 36,
   "metadata": {},
   "outputs": [
    {
     "name": "stdout",
     "output_type": "stream",
     "text": [
      "{'Abhi': 45, 'Abhay': 89, 'Bhargav': 98, 'Abhishek': 100}\n"
     ]
    }
   ],
   "source": [
    "# Sort using value\n",
    "student = {'Bhargav': 98,'Abhishek': 100,  'Abhi': 45, 'Abhay': 89}\n",
    "sorted_list = sorted(student.items(), key=lambda x:x[1])\n",
    "student_sorted_dict = dict(sorted_list)\n",
    "print(student_sorted_dict)"
   ]
  },
  {
   "cell_type": "markdown",
   "metadata": {},
   "source": [
    "### 02) WAP to merge two dictionaries given by user."
   ]
  },
  {
   "cell_type": "code",
   "execution_count": 1,
   "metadata": {},
   "outputs": [
    {
     "name": "stdout",
     "output_type": "stream",
     "text": [
      "{'bharav': 12, 'jay': 13}\n"
     ]
    },
    {
     "ename": "ValueError",
     "evalue": "invalid literal for int() with base 10: 'zx'",
     "output_type": "error",
     "traceback": [
      "\u001b[1;31m---------------------------------------------------------------------------\u001b[0m",
      "\u001b[1;31mValueError\u001b[0m                                Traceback (most recent call last)",
      "Cell \u001b[1;32mIn[1], line 13\u001b[0m\n\u001b[0;32m     11\u001b[0m \u001b[38;5;28;01mfor\u001b[39;00m i \u001b[38;5;129;01min\u001b[39;00m \u001b[38;5;28mrange\u001b[39m(m):\n\u001b[0;32m     12\u001b[0m     name \u001b[38;5;241m=\u001b[39m \u001b[38;5;28minput\u001b[39m(\u001b[38;5;124m'\u001b[39m\u001b[38;5;124mEnter name of student:\u001b[39m\u001b[38;5;124m'\u001b[39m)\n\u001b[1;32m---> 13\u001b[0m     marks \u001b[38;5;241m=\u001b[39m \u001b[38;5;28;43mint\u001b[39;49m\u001b[43m(\u001b[49m\u001b[38;5;28;43minput\u001b[39;49m\u001b[43m(\u001b[49m\u001b[38;5;124;43m\"\u001b[39;49m\u001b[38;5;124;43mEnter marks:\u001b[39;49m\u001b[38;5;124;43m\"\u001b[39;49m\u001b[43m)\u001b[49m\u001b[43m)\u001b[49m\n\u001b[0;32m     14\u001b[0m     student2[name]\u001b[38;5;241m=\u001b[39mmarks\n\u001b[0;32m     15\u001b[0m \u001b[38;5;28mprint\u001b[39m(student2)\n",
      "\u001b[1;31mValueError\u001b[0m: invalid literal for int() with base 10: 'zx'"
     ]
    }
   ],
   "source": [
    "student1 ={}\n",
    "n=int(input('Enter no. students:'))\n",
    "for i in range(n):\n",
    "    name = input('Enter name of student:')\n",
    "    marks =  int(input(\"Enter marks:\"))\n",
    "    student1[name]=marks\n",
    "print(student1)\n",
    "\n",
    "student2 ={}\n",
    "m=int(input('Enter no. students:'))\n",
    "for i in range(m):\n",
    "    name = input('Enter name of student:')\n",
    "    marks = int(input(\"Enter marks:\"))\n",
    "    student2[name]=marks\n",
    "print(student2)\n",
    "studentmerged  = student1 | student2\n",
    "print(studentmerged)"
   ]
  },
  {
   "cell_type": "markdown",
   "metadata": {},
   "source": [
    "### 03) WAP to find tuples that have all elements divisible by K from a list of tuples."
   ]
  },
  {
   "cell_type": "code",
   "execution_count": 4,
   "metadata": {},
   "outputs": [
    {
     "name": "stdout",
     "output_type": "stream",
     "text": [
      "The value of K has been initialized to  3\n",
      "Elements divisible by K are [(21, 66, 99)]\n"
     ]
    }
   ],
   "source": [
    "my_list = [(40, 90, 150), (10, 92, 26), (21, 66, 99)]\n",
    "K = 3\n",
    "print(\"The value of K has been initialized to \",K)\n",
    "my_result = [sub for sub in my_list if all(ele % K == 0 for ele in sub)]\n",
    "print(\"Elements divisible by K are\", my_result)"
   ]
  },
  {
   "cell_type": "markdown",
   "metadata": {},
   "source": [
    "### 04) WAP to find Tuples with positive elements in List of tuples."
   ]
  },
  {
   "cell_type": "code",
   "execution_count": 8,
   "metadata": {},
   "outputs": [
    {
     "name": "stdout",
     "output_type": "stream",
     "text": [
      "The value of K has been initialized to  2\n",
      "Elements divisible by K are [(40, 90, 150), (10, 92, 26), (2, 67, 98)]\n"
     ]
    }
   ],
   "source": [
    "my_list = [(40, 90, 150), (10, 92, 26), (2, 67, 98)]\n",
    "K = 2\n",
    "print(\"The value of K has been initialized to \",K)\n",
    "my_result = [sub for sub in my_list if all(ele >= 0 for ele in sub)]\n",
    "print(\"Elements divisible by K are\", my_result)"
   ]
  },
  {
   "cell_type": "markdown",
   "metadata": {},
   "source": [
    "### 05) WAP which perform union of two sets."
   ]
  },
  {
   "cell_type": "code",
   "execution_count": 9,
   "metadata": {},
   "outputs": [
    {
     "data": {
      "text/plain": [
       "{1, 2, 3, 4, 5, 6, 7, 8, 9, 10}"
      ]
     },
     "execution_count": 9,
     "metadata": {},
     "output_type": "execute_result"
    }
   ],
   "source": [
    "a = {1,2,3,4,5}\n",
    "b= {6,7,8,9,10}\n",
    "a.union(b)"
   ]
  },
  {
   "cell_type": "markdown",
   "metadata": {},
   "source": [
    "# B"
   ]
  },
  {
   "cell_type": "markdown",
   "metadata": {},
   "source": [
    "### 01) WAP to convert binary tuple into integer."
   ]
  },
  {
   "cell_type": "code",
   "execution_count": 17,
   "metadata": {},
   "outputs": [
    {
     "name": "stdout",
     "output_type": "stream",
     "text": [
      "The binary number (1, 0, 1) is equivalent to the decimal number : 5\n"
     ]
    }
   ],
   "source": [
    "binary_tuple = (1, 0, 1)\n",
    "\n",
    "binary_str = ''.join(map(str, binary_tuple))\n",
    "decimal_int = int(binary_str, 2)\n",
    "\n",
    "print(f\"The binary number {binary_tuple} is equivalent to the decimal number : {decimal_int}\")\n"
   ]
  },
  {
   "cell_type": "markdown",
   "metadata": {},
   "source": [
    "### 02) WAP to count frequency in list by dictionary."
   ]
  },
  {
   "cell_type": "code",
   "execution_count": 19,
   "metadata": {},
   "outputs": [
    {
     "name": "stdout",
     "output_type": "stream",
     "text": [
      "a 1\n",
      "b 1\n",
      "h 2\n",
      "i 1\n",
      "s 1\n",
      "e 1\n",
      "k 1\n"
     ]
    }
   ],
   "source": [
    "list = ['a', 'b', 'h', 'i', 's', 'h', 'e' , 'k']\n",
    "frequency = {}\n",
    "for item in list:\n",
    "    if (item in frequency): \n",
    "        frequency [item] += 1   \n",
    "    else:\n",
    "        frequency [item] = 1\n",
    "for key, value in frequency.items(): \n",
    "    print(key, value)"
   ]
  },
  {
   "cell_type": "markdown",
   "metadata": {},
   "source": [
    "### 03) WAP to remove all the duplicate words from the list using dictionary."
   ]
  },
  {
   "cell_type": "code",
   "execution_count": 7,
   "metadata": {},
   "outputs": [
    {
     "name": "stdout",
     "output_type": "stream",
     "text": [
      "dict_keys(['jay', 'Bhargav', 'Hetvi', 'jemo'])\n"
     ]
    }
   ],
   "source": [
    "word_list = ['jay','Bhargav','Hetvi','jemo','jay','jay']\n",
    "\n",
    "unique_words_dict = {}\n",
    "\n",
    "for i in word_list:\n",
    "    unique_words_dict[i] = True\n",
    "\n",
    "sorted_list = unique_words_dict.keys()\n",
    "\n",
    "print(sorted_list)\n"
   ]
  }
 ],
 "metadata": {
  "kernelspec": {
   "display_name": "Python 3 (ipykernel)",
   "language": "python",
   "name": "python3"
  },
  "language_info": {
   "codemirror_mode": {
    "name": "ipython",
    "version": 3
   },
   "file_extension": ".py",
   "mimetype": "text/x-python",
   "name": "python",
   "nbconvert_exporter": "python",
   "pygments_lexer": "ipython3",
   "version": "3.12.2"
  }
 },
 "nbformat": 4,
 "nbformat_minor": 4
}
