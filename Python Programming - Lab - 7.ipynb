{
 "cells": [
  {
   "cell_type": "markdown",
   "metadata": {},
   "source": [
    "<a href='https://www.darshan.ac.in/'> <img src='https://www.darshan.ac.in/Content/media/DU_Logo.svg' width=\"250\" height=\"300\"/></a>\n",
    "<pre>\n",
    "<center><b><h1>Python Programming - 2101CS405</b></center>\n",
    "<center><b><h1>Lab - 7</b></center>\n",
    "<p>\n",
    "JAVIA BHARGAV </br>\n",
    "22010101438\n",
    "</p>    \n",
    "<pre>"
   ]
  },
  {
   "cell_type": "markdown",
   "metadata": {},
   "source": [
    "# Functions"
   ]
  },
  {
   "cell_type": "markdown",
   "metadata": {},
   "source": [
    "### 01) WAP to count simple interest using function."
   ]
  },
  {
   "cell_type": "code",
   "execution_count": 5,
   "metadata": {},
   "outputs": [
    {
     "name": "stdout",
     "output_type": "stream",
     "text": [
      "Simple interst for\n",
      "Principal amount : 5000\n",
      "with Inrest rate : 5\n",
      "and Time : 5\n",
      "is : 1250\n"
     ]
    }
   ],
   "source": [
    "p = int(input(\"Enter principal amount for simple intrest : \"))\n",
    "r = int(input(\"Enter intrest : \"))\n",
    "n = int(input(\"Enter duration in year to put the principal amount : \"))\n",
    "\n",
    "def simpleintrest(p,r,n):\n",
    "    result = (p*r*n)//100\n",
    "    print(f\"Simple interst for\\nPrincipal amount : {p}\\nwith Inrest rate : {r}\\nand Time : {n}\\nis : {result}\")\n",
    "\n",
    "simpleintrest(p,r,n)"
   ]
  },
  {
   "cell_type": "markdown",
   "metadata": {},
   "source": [
    "### 02) WAP that defines a function to add first n numbers."
   ]
  },
  {
   "cell_type": "code",
   "execution_count": 13,
   "metadata": {},
   "outputs": [
    {
     "name": "stdout",
     "output_type": "stream",
     "text": [
      "Sum of first 10 number is : 55\n"
     ]
    }
   ],
   "source": [
    "n = int(input(\"Sum till last number : \")) \n",
    "\n",
    "\n",
    "def firstn(n):\n",
    "    sum = 0\n",
    "    for i in range (1,n+1):\n",
    "        sum += i\n",
    "    print(f\"Sum of first {n} number is : {sum}\")\n",
    "\n",
    "firstn(n)"
   ]
  },
  {
   "cell_type": "markdown",
   "metadata": {},
   "source": [
    "### 03) WAP to find maximum number from given two numbers using function."
   ]
  },
  {
   "cell_type": "code",
   "execution_count": 14,
   "metadata": {},
   "outputs": [
    {
     "name": "stdout",
     "output_type": "stream",
     "text": [
      "Number greater is :  25\n"
     ]
    }
   ],
   "source": [
    "num1 = int(input(\"Enter number 1 : \"))\n",
    "num2 = int(input(\"Enter number 2 : \"))\n",
    "\n",
    "def max(num1,num2):\n",
    "    print(\"Number greater is : \",num1 if num1>num2 else num2)\n",
    "\n",
    "max(num1,num2)"
   ]
  },
  {
   "cell_type": "markdown",
   "metadata": {},
   "source": [
    "### 04) WAP that defines a function which returns 1 if the number is prime otherwise return 0."
   ]
  },
  {
   "cell_type": "code",
   "execution_count": 1,
   "metadata": {},
   "outputs": [
    {
     "data": {
      "text/plain": [
       "1"
      ]
     },
     "execution_count": 1,
     "metadata": {},
     "output_type": "execute_result"
    }
   ],
   "source": [
    "n = int(input(\"Enter the number to get prime or not : \"))\n",
    "\n",
    "def prime(n):\n",
    "    for i in range(2, n//2):\n",
    "        if(n%i == 0):\n",
    "            return 0\n",
    "    return 1\n",
    "\n",
    "prime(n)"
   ]
  },
  {
   "cell_type": "markdown",
   "metadata": {},
   "source": [
    "### 05) Write a function called primes that takes an integer value as an argument and returns a list of all prime numbers up to that number."
   ]
  },
  {
   "cell_type": "code",
   "execution_count": 48,
   "metadata": {},
   "outputs": [
    {
     "name": "stdout",
     "output_type": "stream",
     "text": [
      "Prime number upto n 10 is : [2, 3, 5, 7]\n"
     ]
    }
   ],
   "source": [
    "n = int(input(\"Enetr number till you want prime number : \"))\n",
    "\n",
    "def primelist(n):\n",
    "    for i in range(2, n):\n",
    "        if(n%i == 0):\n",
    "            return False\n",
    "    return True\n",
    "\n",
    "def primes(n):\n",
    "    prime_list = []\n",
    "    for n in range(2, n):\n",
    "        if primelist(n):\n",
    "            prime_list.append(n)\n",
    "    return prime_list\n",
    "\n",
    "print(f\"Prime number upto n {n} is : {primes(n)}\")"
   ]
  },
  {
   "cell_type": "markdown",
   "metadata": {},
   "source": [
    "### 06) WAP to generate Fibonacci series of N given number using function name fibbo. (e.g. 0 1 1 2 3 5 8...)"
   ]
  },
  {
   "cell_type": "code",
   "execution_count": 53,
   "metadata": {},
   "outputs": [
    {
     "name": "stdout",
     "output_type": "stream",
     "text": [
      "Fibonacci Series till n 10 is : 55\n"
     ]
    }
   ],
   "source": [
    "n = int(input(\"Enetr number till you want fibonaci series : \"))\n",
    "\n",
    "def fibonacci(n):\n",
    "    if (n == 0):\n",
    "        return 0\n",
    "    elif (n == 1):\n",
    "        return 1\n",
    "    else:\n",
    "        return fibonacci(n - 1) + fibonacci(n - 2)\n",
    "\n",
    "print(f\"Fibonacci Series till n {n} is : {fibonacci(n)}\")\n"
   ]
  },
  {
   "cell_type": "markdown",
   "metadata": {},
   "source": [
    "### 07) WAP to find the factorial of a given number using recursion."
   ]
  },
  {
   "cell_type": "code",
   "execution_count": 49,
   "metadata": {},
   "outputs": [
    {
     "name": "stdout",
     "output_type": "stream",
     "text": [
      "Factorial of 5 number is : 120\n"
     ]
    }
   ],
   "source": [
    "n=int(input(\"Enter a number:\"))\n",
    "def factorial(n):\n",
    "    fact=1\n",
    "    for i in range (1,n+1):\n",
    "        fact *=i\n",
    "    print(f\"Factorial of {n} number is : {fact}\")\n",
    "\n",
    "factorial(n)"
   ]
  },
  {
   "cell_type": "markdown",
   "metadata": {},
   "source": [
    "### 08) WAP to implement simple calculator using lamda function."
   ]
  },
  {
   "cell_type": "code",
   "execution_count": 12,
   "metadata": {},
   "outputs": [
    {
     "name": "stdout",
     "output_type": "stream",
     "text": [
      "Result: 7\n"
     ]
    }
   ],
   "source": [
    "\n",
    "\n",
    "num1 = int(input(\"Enter first number: \"))\n",
    "num2 = int(input(\"Enter second number: \"))\n",
    "op = input(\"Enter operation (+, -, *, /): \")\n",
    "\n",
    "def calc(num1,num2,op):\n",
    "    if op == '+':\n",
    "        result = lambda num1,num2: num1+num2\n",
    "    elif op == '-':\n",
    "        result = lambda num1,num2: num1-num2\n",
    "    elif op == '*':\n",
    "        result = lambda num1,num2: num1*num2\n",
    "    elif op == '/':\n",
    "        result = lambda num1,num2: num1/num2 if num2 !=0 else \"Cannot divide by zero\"\n",
    "    else:\n",
    "        result = \"Invalid operation\"\n",
    "\n",
    "    print(f\"Result: {result(num1,num2)}\")\n",
    "\n",
    "calc(num1,num2,op)\n"
   ]
  },
  {
   "cell_type": "markdown",
   "metadata": {},
   "source": [
    "### 09)Write a Python program that accepts a hyphen-separated sequence of words as input and prints the words in a hyphen-separated sequence after sorting them alphabetically\n",
    "Sample Items : green-red-yellow-black-white <br>\n",
    "Expected Result : black-green-red-white-yellow"
   ]
  },
  {
   "cell_type": "code",
   "execution_count": 1,
   "metadata": {},
   "outputs": [
    {
     "name": "stdout",
     "output_type": "stream",
     "text": [
      "Sorted Result: black-green-red-white-yellow\n"
     ]
    }
   ],
   "source": [
    "def sort_words(input_str):\n",
    "    words = input_str.split('-')\n",
    "\n",
    "    sorted_words = sorted(words)\n",
    "\n",
    "    result_str = '-'.join(sorted_words)\n",
    "\n",
    "    return result_str\n",
    "\n",
    "input_sequence = input(\"Enter hyphen-separated sequence of words: \")\n",
    "\n",
    "result = sort_words(input_sequence)\n",
    "print(\"Sorted Result:\", result)\n"
   ]
  },
  {
   "cell_type": "markdown",
   "metadata": {},
   "source": [
    "### 10) Write a python program to implement all function arguments type\n",
    "Positional arguments <Br>\n",
    "Default argument <Br>\n",
    "Keyword arguments (named arguments) <Br>\n",
    "Arbitrary arguments (variable-length arguments args and kwargs)"
   ]
  },
  {
   "cell_type": "code",
   "execution_count": 2,
   "metadata": {},
   "outputs": [
    {
     "name": "stdout",
     "output_type": "stream",
     "text": [
      "Positional Arguments:\n",
      "Argument 1: value1\n",
      "Argument 2: value2\n"
     ]
    }
   ],
   "source": [
    "def positional_example(arg1, arg2):\n",
    "    print(\"Positional Arguments:\")\n",
    "    print(\"Argument 1:\", arg1)\n",
    "    print(\"Argument 2:\", arg2)\n",
    "\n",
    "\n",
    "positional_example(\"value1\", \"value2\")\n"
   ]
  },
  {
   "cell_type": "code",
   "execution_count": 3,
   "metadata": {},
   "outputs": [
    {
     "name": "stdout",
     "output_type": "stream",
     "text": [
      "\n",
      "Default Argument:\n",
      "Argument 1: value1\n",
      "Argument 2: default_value\n"
     ]
    }
   ],
   "source": [
    "def default_example(arg1, arg2=\"default_value\"):\n",
    "    print(\"\\nDefault Argument:\")\n",
    "    print(\"Argument 1:\", arg1)\n",
    "    print(\"Argument 2:\", arg2)\n",
    "\n",
    "default_example(\"value1\")\n"
   ]
  },
  {
   "cell_type": "code",
   "execution_count": 4,
   "metadata": {},
   "outputs": [
    {
     "name": "stdout",
     "output_type": "stream",
     "text": [
      "\n",
      "Keyword Arguments:\n",
      "Argument 1: value1\n",
      "Argument 2: value2\n",
      "Argument 3: value3\n"
     ]
    }
   ],
   "source": [
    "def keyword_example(arg1, arg2, arg3):\n",
    "    print(\"\\nKeyword Arguments:\")\n",
    "    print(\"Argument 1:\", arg1)\n",
    "    print(\"Argument 2:\", arg2)\n",
    "    print(\"Argument 3:\", arg3)\n",
    "    \n",
    "keyword_example(arg1=\"value1\", arg2=\"value2\", arg3=\"value3\")\n"
   ]
  },
  {
   "cell_type": "code",
   "execution_count": 5,
   "metadata": {},
   "outputs": [
    {
     "name": "stdout",
     "output_type": "stream",
     "text": [
      "\n",
      "Arbitrary Arguments (args):\n",
      "arg1\n",
      "arg2\n",
      "arg3\n",
      "\n",
      "Arbitrary Keyword Arguments (kwargs):\n",
      "key1: value1\n",
      "key2: value2\n",
      "key3: value3\n"
     ]
    }
   ],
   "source": [
    "def arbitrary_arguments_example(*args):\n",
    "    print(\"\\nArbitrary Arguments (args):\")\n",
    "    for arg in args:\n",
    "        print(arg)\n",
    "\n",
    "def arbitrary_keyword_arguments_example(**kwargs):\n",
    "    print(\"\\nArbitrary Keyword Arguments (kwargs):\")\n",
    "    for key, value in kwargs.items():\n",
    "        print(f\"{key}: {value}\")\n",
    "\n",
    "\n",
    "arbitrary_arguments_example(\"arg1\", \"arg2\", \"arg3\")\n",
    "arbitrary_keyword_arguments_example(key1=\"value1\", key2=\"value2\", key3=\"value3\")"
   ]
  },
  {
   "cell_type": "markdown",
   "metadata": {},
   "source": [
    "### 01) WAP to calculate power of a number using recursion."
   ]
  },
  {
   "cell_type": "code",
   "execution_count": 16,
   "metadata": {},
   "outputs": [
    {
     "name": "stdout",
     "output_type": "stream",
     "text": [
      "The result of 5 raised to the power of 2 is: 25\n"
     ]
    }
   ],
   "source": [
    "def power(base, exponent):\n",
    "    if exponent == 0:\n",
    "        return 1\n",
    "    else:\n",
    "        return base * power(base, exponent - 1)\n",
    "\n",
    "base = int(input(\"Enter base :\"))\n",
    "exponent = int(input(\"Enter exponent :\"))\n",
    "\n",
    "result = power(base, exponent)\n",
    "print(f\"The result of {base} raised to the power of {exponent} is: {result}\")\n"
   ]
  },
  {
   "cell_type": "markdown",
   "metadata": {},
   "source": [
    "### 02) WAP to count digits of a number using recursion."
   ]
  },
  {
   "cell_type": "code",
   "execution_count": 17,
   "metadata": {},
   "outputs": [
    {
     "name": "stdout",
     "output_type": "stream",
     "text": [
      "The number of digits in 11 is: 2\n"
     ]
    }
   ],
   "source": [
    "def count_digits(number):\n",
    "    if number < 10:\n",
    "        return 1\n",
    "    else:\n",
    "        return 1 + count_digits(number // 10)\n",
    "\n",
    "user_number = int(input(\"Enter a number: \"))\n",
    "\n",
    "if user_number < 0:\n",
    "    print(\"Please enter a non-negative number.\")\n",
    "else:\n",
    "    result = count_digits(user_number)\n",
    "    print(f\"The number of digits in {user_number} is: {result}\")\n"
   ]
  },
  {
   "cell_type": "markdown",
   "metadata": {},
   "source": [
    "### 03) WAP to reverse an integer number using recursion."
   ]
  },
  {
   "cell_type": "code",
   "execution_count": 18,
   "metadata": {},
   "outputs": [
    {
     "name": "stdout",
     "output_type": "stream",
     "text": [
      "The reversed form of 1235 is: 5321\n"
     ]
    }
   ],
   "source": [
    "def reverse_integer(number):\n",
    "    if number < 10:\n",
    "        return number\n",
    "    else:\n",
    "        last = number % 10\n",
    "        remaining = number // 10\n",
    "        reversed = reverse_integer(remaining)\n",
    "        return int(str(last) + str(reversed))\n",
    "\n",
    "user_number = int(input(\"Enter an integer: \"))\n",
    "\n",
    "result = reverse_integer(user_number)\n",
    "print(f\"The reversed form of {user_number} is: {result}\")\n"
   ]
  },
  {
   "cell_type": "markdown",
   "metadata": {},
   "source": [
    "### 04) WAP to convert decimal number into binary using recursion."
   ]
  },
  {
   "cell_type": "code",
   "execution_count": 21,
   "metadata": {},
   "outputs": [
    {
     "name": "stdout",
     "output_type": "stream",
     "text": [
      "The binary representation of 10 is: 1010\n"
     ]
    }
   ],
   "source": [
    "def decimal_to_binary(decimal):\n",
    "    if decimal == 0:\n",
    "        return \"\"\n",
    "    else:\n",
    "        quotient = decimal // 2\n",
    "        remainder = decimal % 2\n",
    "        return decimal_to_binary(quotient) + str(remainder)\n",
    "\n",
    "user_decimal = int(input(\"Enter a decimal number: \"))\n",
    "\n",
    "if user_decimal < 0:\n",
    "    print(\"Please enter a non-negative decimal number.\")\n",
    "else:\n",
    "    binary_result = decimal_to_binary(user_decimal)\n",
    "    print(f\"The binary representation of {user_decimal} is: {binary_result}\")\n"
   ]
  }
 ],
 "metadata": {
  "kernelspec": {
   "display_name": "Python 3 (ipykernel)",
   "language": "python",
   "name": "python3"
  },
  "language_info": {
   "codemirror_mode": {
    "name": "ipython",
    "version": 3
   },
   "file_extension": ".py",
   "mimetype": "text/x-python",
   "name": "python",
   "nbconvert_exporter": "python",
   "pygments_lexer": "ipython3",
   "version": "3.12.1"
  }
 },
 "nbformat": 4,
 "nbformat_minor": 4
}
